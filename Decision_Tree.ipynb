{
 "cells": [
  {
   "cell_type": "markdown",
   "metadata": {},
   "source": [
    "#### Importing Libraries"
   ]
  },
  {
   "cell_type": "code",
   "execution_count": null,
   "metadata": {},
   "outputs": [
    {
     "ename": "",
     "evalue": "",
     "output_type": "error",
     "traceback": [
      "\u001b[1;31mThe kernel failed to start due to an error with the 'pyzmq' module. Consider re-installing this module. \n",
      "View Jupyter <a href='command:jupyter.viewOutput'>log</a> for further details.\n",
      "<a href='https://aka.ms/kernelFailuresPyzmq'>Learn more</a>"
     ]
    }
   ],
   "source": [
    "import pandas as pd \n",
    "from sklearn.metrics import accuracy_score, confusion_matrix\n",
    "from sklearn.model_selection import train_test_split\n",
    "from sklearn.tree import DecisionTreeClassifier\n",
    "from matplotlib.pyplot import figure\n",
    "from sklearn import tree\n",
    "from matplotlib import pyplot as plt"
   ]
  },
  {
   "cell_type": "markdown",
   "metadata": {},
   "source": [
    "#### Reading Data"
   ]
  },
  {
   "cell_type": "code",
   "execution_count": 10,
   "metadata": {},
   "outputs": [],
   "source": [
    "data = pd.read_csv(\"./Final Database - Final.csv\")"
   ]
  },
  {
   "cell_type": "markdown",
   "metadata": {},
   "source": [
    "<h4> Data Description </h4>\n",
    "<h6> Youtube DataSet</h6>"
   ]
  },
  {
   "cell_type": "markdown",
   "metadata": {},
   "source": [
    "##### Data Columns"
   ]
  },
  {
   "cell_type": "code",
   "execution_count": 11,
   "metadata": {},
   "outputs": [
    {
     "data": {
      "text/plain": [
       "Index(['Video_Title', 'Channel_title', 'Publish_Time', 'tags', 'views',\n",
       "       'Trending_NonTrending', 'likes', 'dislikes', 'comment_count',\n",
       "       'Comment Disabled', 'Description'],\n",
       "      dtype='object')"
      ]
     },
     "execution_count": 11,
     "metadata": {},
     "output_type": "execute_result"
    }
   ],
   "source": [
    "data.columns"
   ]
  },
  {
   "cell_type": "code",
   "execution_count": 12,
   "metadata": {},
   "outputs": [
    {
     "data": {
      "text/html": [
       "<div>\n",
       "<style scoped>\n",
       "    .dataframe tbody tr th:only-of-type {\n",
       "        vertical-align: middle;\n",
       "    }\n",
       "\n",
       "    .dataframe tbody tr th {\n",
       "        vertical-align: top;\n",
       "    }\n",
       "\n",
       "    .dataframe thead th {\n",
       "        text-align: right;\n",
       "    }\n",
       "</style>\n",
       "<table border=\"1\" class=\"dataframe\">\n",
       "  <thead>\n",
       "    <tr style=\"text-align: right;\">\n",
       "      <th></th>\n",
       "      <th>Video_Title</th>\n",
       "      <th>Channel_title</th>\n",
       "      <th>Publish_Time</th>\n",
       "      <th>tags</th>\n",
       "      <th>views</th>\n",
       "      <th>Trending_NonTrending</th>\n",
       "      <th>likes</th>\n",
       "      <th>dislikes</th>\n",
       "      <th>comment_count</th>\n",
       "      <th>Comment Disabled</th>\n",
       "      <th>Description</th>\n",
       "    </tr>\n",
       "  </thead>\n",
       "  <tbody>\n",
       "    <tr>\n",
       "      <th>0</th>\n",
       "      <td>1 REASON WHY | RishhSome</td>\n",
       "      <td>Rishhsome</td>\n",
       "      <td>2018-06-05T14:29:11.000Z</td>\n",
       "      <td>rishhsome|\"vines\"|\"rishabh rana\"|\"rishabh\"|\"fu...</td>\n",
       "      <td>398035.0</td>\n",
       "      <td>0.0</td>\n",
       "      <td>28138.0</td>\n",
       "      <td>1710.0</td>\n",
       "      <td>1251.0</td>\n",
       "      <td>False</td>\n",
       "      <td>Watch my latest video!ACTORS:Rishabh RanaVikra...</td>\n",
       "    </tr>\n",
       "    <tr>\n",
       "      <th>1</th>\n",
       "      <td>1 Stupidity vs 1000 Stupidity</td>\n",
       "      <td>Slayy Point</td>\n",
       "      <td>2018-05-31T11:17:17.000Z</td>\n",
       "      <td>slayy point|\"1$ vs 1000$\"|\"1$ vs 100$ videos\"|...</td>\n",
       "      <td>166769.0</td>\n",
       "      <td>0.0</td>\n",
       "      <td>20022.0</td>\n",
       "      <td>661.0</td>\n",
       "      <td>2435.0</td>\n",
       "      <td>False</td>\n",
       "      <td>Download Cuddll - https://ubj2g.app.goo.gl/spW...</td>\n",
       "    </tr>\n",
       "    <tr>\n",
       "      <th>2</th>\n",
       "      <td>10 AWESOME LIFE HACKS!</td>\n",
       "      <td>Power Vision</td>\n",
       "      <td>2018-05-28T13:45:00.000Z</td>\n",
       "      <td>Life hacks|\"Coca-Cola\"|\"Lifehacks\"|\"Coca-Cola ...</td>\n",
       "      <td>792386.0</td>\n",
       "      <td>0.0</td>\n",
       "      <td>3468.0</td>\n",
       "      <td>937.0</td>\n",
       "      <td>201.0</td>\n",
       "      <td>False</td>\n",
       "      <td>Help Me +2.100.000 Subscribers: https://goo.gl...</td>\n",
       "    </tr>\n",
       "    <tr>\n",
       "      <th>3</th>\n",
       "      <td>10 DIY Giant vs Miniature Gadgets / School Pra...</td>\n",
       "      <td>Troom Troom</td>\n",
       "      <td>2018-05-27T14:00:09.000Z</td>\n",
       "      <td>prank|\"pranks\"|\"best pranks\"|\"funny\"|\"joke\"|\"h...</td>\n",
       "      <td>1270168.0</td>\n",
       "      <td>1.0</td>\n",
       "      <td>20418.0</td>\n",
       "      <td>1410.0</td>\n",
       "      <td>2593.0</td>\n",
       "      <td>False</td>\n",
       "      <td>Subscribe Here: https://goo.gl/KM3Axw8 DIY Edi...</td>\n",
       "    </tr>\n",
       "    <tr>\n",
       "      <th>4</th>\n",
       "      <td>10th Annual Vijay Awards | 16th &amp; 17th June 20...</td>\n",
       "      <td>Vijay Television</td>\n",
       "      <td>2018-06-13T06:38:30.000Z</td>\n",
       "      <td>Thamizh|\"Vijay\"|\"Star\"|\"Vijay TV\"|\"Star TV\"|\"S...</td>\n",
       "      <td>540577.0</td>\n",
       "      <td>0.0</td>\n",
       "      <td>4382.0</td>\n",
       "      <td>397.0</td>\n",
       "      <td>224.0</td>\n",
       "      <td>False</td>\n",
       "      <td>10th Annual Vijay Awards! ஜூன் 16 இரவு 8 மணிக்...</td>\n",
       "    </tr>\n",
       "  </tbody>\n",
       "</table>\n",
       "</div>"
      ],
      "text/plain": [
       "                                         Video_Title     Channel_title  \\\n",
       "0                           1 REASON WHY | RishhSome         Rishhsome   \n",
       "1                      1 Stupidity vs 1000 Stupidity       Slayy Point   \n",
       "2                             10 AWESOME LIFE HACKS!      Power Vision   \n",
       "3  10 DIY Giant vs Miniature Gadgets / School Pra...       Troom Troom   \n",
       "4  10th Annual Vijay Awards | 16th & 17th June 20...  Vijay Television   \n",
       "\n",
       "               Publish_Time  \\\n",
       "0  2018-06-05T14:29:11.000Z   \n",
       "1  2018-05-31T11:17:17.000Z   \n",
       "2  2018-05-28T13:45:00.000Z   \n",
       "3  2018-05-27T14:00:09.000Z   \n",
       "4  2018-06-13T06:38:30.000Z   \n",
       "\n",
       "                                                tags      views  \\\n",
       "0  rishhsome|\"vines\"|\"rishabh rana\"|\"rishabh\"|\"fu...   398035.0   \n",
       "1  slayy point|\"1$ vs 1000$\"|\"1$ vs 100$ videos\"|...   166769.0   \n",
       "2  Life hacks|\"Coca-Cola\"|\"Lifehacks\"|\"Coca-Cola ...   792386.0   \n",
       "3  prank|\"pranks\"|\"best pranks\"|\"funny\"|\"joke\"|\"h...  1270168.0   \n",
       "4  Thamizh|\"Vijay\"|\"Star\"|\"Vijay TV\"|\"Star TV\"|\"S...   540577.0   \n",
       "\n",
       "   Trending_NonTrending    likes  dislikes  comment_count Comment Disabled  \\\n",
       "0                   0.0  28138.0    1710.0         1251.0            False   \n",
       "1                   0.0  20022.0     661.0         2435.0            False   \n",
       "2                   0.0   3468.0     937.0          201.0            False   \n",
       "3                   1.0  20418.0    1410.0         2593.0            False   \n",
       "4                   0.0   4382.0     397.0          224.0            False   \n",
       "\n",
       "                                         Description  \n",
       "0  Watch my latest video!ACTORS:Rishabh RanaVikra...  \n",
       "1  Download Cuddll - https://ubj2g.app.goo.gl/spW...  \n",
       "2  Help Me +2.100.000 Subscribers: https://goo.gl...  \n",
       "3  Subscribe Here: https://goo.gl/KM3Axw8 DIY Edi...  \n",
       "4  10th Annual Vijay Awards! ஜூன் 16 இரவு 8 மணிக்...  "
      ]
     },
     "execution_count": 12,
     "metadata": {},
     "output_type": "execute_result"
    }
   ],
   "source": [
    "data.head()"
   ]
  },
  {
   "cell_type": "code",
   "execution_count": 5,
   "metadata": {},
   "outputs": [
    {
     "data": {
      "text/plain": [
       "(1831, 11)"
      ]
     },
     "execution_count": 5,
     "metadata": {},
     "output_type": "execute_result"
    }
   ],
   "source": [
    "data.shape"
   ]
  },
  {
   "cell_type": "markdown",
   "metadata": {},
   "source": [
    "##### Checking is there any NULL values in data"
   ]
  },
  {
   "cell_type": "code",
   "execution_count": 6,
   "metadata": {},
   "outputs": [
    {
     "data": {
      "text/html": [
       "<div>\n",
       "<style scoped>\n",
       "    .dataframe tbody tr th:only-of-type {\n",
       "        vertical-align: middle;\n",
       "    }\n",
       "\n",
       "    .dataframe tbody tr th {\n",
       "        vertical-align: top;\n",
       "    }\n",
       "\n",
       "    .dataframe thead th {\n",
       "        text-align: right;\n",
       "    }\n",
       "</style>\n",
       "<table border=\"1\" class=\"dataframe\">\n",
       "  <thead>\n",
       "    <tr style=\"text-align: right;\">\n",
       "      <th></th>\n",
       "      <th>Video_Title</th>\n",
       "      <th>Channel_title</th>\n",
       "      <th>Publish_Time</th>\n",
       "      <th>tags</th>\n",
       "      <th>views</th>\n",
       "      <th>Trending_NonTrending</th>\n",
       "      <th>likes</th>\n",
       "      <th>dislikes</th>\n",
       "      <th>comment_count</th>\n",
       "      <th>Comment Disabled</th>\n",
       "      <th>Description</th>\n",
       "    </tr>\n",
       "  </thead>\n",
       "  <tbody>\n",
       "    <tr>\n",
       "      <th>110</th>\n",
       "      <td>ABP ANANDA Live Stream</td>\n",
       "      <td>ABP ANANDA</td>\n",
       "      <td>2018-05-17T06:39:03.000Z</td>\n",
       "      <td>[none]</td>\n",
       "      <td>133305.0</td>\n",
       "      <td>0.0</td>\n",
       "      <td>439.0</td>\n",
       "      <td>89.0</td>\n",
       "      <td>32.0</td>\n",
       "      <td>False</td>\n",
       "      <td>NaN</td>\n",
       "    </tr>\n",
       "    <tr>\n",
       "      <th>232</th>\n",
       "      <td>Baat Ka Batangad</td>\n",
       "      <td>Irahul Vohra</td>\n",
       "      <td>2017-11-11T13:15:51.000Z</td>\n",
       "      <td>Baat Ka Batangad|\"Truth\"|\"Truth Behind The Rel...</td>\n",
       "      <td>70810.0</td>\n",
       "      <td>0.0</td>\n",
       "      <td>3768.0</td>\n",
       "      <td>191.0</td>\n",
       "      <td>257.0</td>\n",
       "      <td>False</td>\n",
       "      <td>NaN</td>\n",
       "    </tr>\n",
       "    <tr>\n",
       "      <th>259</th>\n",
       "      <td>Bepannaah: Mon-Fri 9.30 pm.</td>\n",
       "      <td>ColorsTV Promos</td>\n",
       "      <td>2018-06-06T08:48:27.000Z</td>\n",
       "      <td>colors tv|\"colorstv\"|\"hindi serials\"</td>\n",
       "      <td>312621.0</td>\n",
       "      <td>0.0</td>\n",
       "      <td>3700.0</td>\n",
       "      <td>68.0</td>\n",
       "      <td>219.0</td>\n",
       "      <td>False</td>\n",
       "      <td>NaN</td>\n",
       "    </tr>\n",
       "    <tr>\n",
       "      <th>262</th>\n",
       "      <td>Best Moments Of Chennai Super Kings Team After...</td>\n",
       "      <td>Tv Actor's Real</td>\n",
       "      <td>2018-05-28T03:52:01.000Z</td>\n",
       "      <td>[none]</td>\n",
       "      <td>94768.0</td>\n",
       "      <td>0.0</td>\n",
       "      <td>698.0</td>\n",
       "      <td>57.0</td>\n",
       "      <td>25.0</td>\n",
       "      <td>False</td>\n",
       "      <td>NaN</td>\n",
       "    </tr>\n",
       "    <tr>\n",
       "      <th>263</th>\n",
       "      <td>Best Moments Of Chennai Super Kings Team After...</td>\n",
       "      <td>Tv Actor's Real</td>\n",
       "      <td>2018-05-28T03:52:01.000Z</td>\n",
       "      <td>[none]</td>\n",
       "      <td>141262.0</td>\n",
       "      <td>0.0</td>\n",
       "      <td>864.0</td>\n",
       "      <td>80.0</td>\n",
       "      <td>30.0</td>\n",
       "      <td>False</td>\n",
       "      <td>NaN</td>\n",
       "    </tr>\n",
       "  </tbody>\n",
       "</table>\n",
       "</div>"
      ],
      "text/plain": [
       "                                           Video_Title    Channel_title  \\\n",
       "110                             ABP ANANDA Live Stream       ABP ANANDA   \n",
       "232                                   Baat Ka Batangad     Irahul Vohra   \n",
       "259                        Bepannaah: Mon-Fri 9.30 pm.  ColorsTV Promos   \n",
       "262  Best Moments Of Chennai Super Kings Team After...  Tv Actor's Real   \n",
       "263  Best Moments Of Chennai Super Kings Team After...  Tv Actor's Real   \n",
       "\n",
       "                 Publish_Time  \\\n",
       "110  2018-05-17T06:39:03.000Z   \n",
       "232  2017-11-11T13:15:51.000Z   \n",
       "259  2018-06-06T08:48:27.000Z   \n",
       "262  2018-05-28T03:52:01.000Z   \n",
       "263  2018-05-28T03:52:01.000Z   \n",
       "\n",
       "                                                  tags     views  \\\n",
       "110                                             [none]  133305.0   \n",
       "232  Baat Ka Batangad|\"Truth\"|\"Truth Behind The Rel...   70810.0   \n",
       "259               colors tv|\"colorstv\"|\"hindi serials\"  312621.0   \n",
       "262                                             [none]   94768.0   \n",
       "263                                             [none]  141262.0   \n",
       "\n",
       "     Trending_NonTrending   likes  dislikes  comment_count Comment Disabled  \\\n",
       "110                   0.0   439.0      89.0           32.0            False   \n",
       "232                   0.0  3768.0     191.0          257.0            False   \n",
       "259                   0.0  3700.0      68.0          219.0            False   \n",
       "262                   0.0   698.0      57.0           25.0            False   \n",
       "263                   0.0   864.0      80.0           30.0            False   \n",
       "\n",
       "    Description  \n",
       "110         NaN  \n",
       "232         NaN  \n",
       "259         NaN  \n",
       "262         NaN  \n",
       "263         NaN  "
      ]
     },
     "execution_count": 6,
     "metadata": {},
     "output_type": "execute_result"
    }
   ],
   "source": [
    "data[data.isnull().any(axis = 1)].head()"
   ]
  },
  {
   "cell_type": "markdown",
   "metadata": {},
   "source": [
    "<h5> Data Cleaning </h5>"
   ]
  },
  {
   "cell_type": "code",
   "execution_count": 14,
   "metadata": {},
   "outputs": [],
   "source": [
    "data = data.dropna()"
   ]
  },
  {
   "cell_type": "code",
   "execution_count": 15,
   "metadata": {},
   "outputs": [
    {
     "data": {
      "text/plain": [
       "(1803, 11)"
      ]
     },
     "execution_count": 15,
     "metadata": {},
     "output_type": "execute_result"
    }
   ],
   "source": [
    "data.shape"
   ]
  },
  {
   "cell_type": "code",
   "execution_count": 16,
   "metadata": {},
   "outputs": [
    {
     "data": {
      "text/plain": [
       "0    0\n",
       "1    0\n",
       "2    1\n",
       "3    1\n",
       "4    1\n",
       "Name: Trending_NonTrending, dtype: int32"
      ]
     },
     "execution_count": 16,
     "metadata": {},
     "output_type": "execute_result"
    }
   ],
   "source": [
    "# For creating additional feature -> Trending-NonTrending\n",
    "dataframe = data.copy()\n",
    "\n",
    "# Defining our Target Variable/feature\n",
    "dataframe['Trending_NonTrending'] = (dataframe['views'] > 500000) * 1\n",
    "dataframe['Trending_NonTrending'].head()"
   ]
  },
  {
   "cell_type": "code",
   "execution_count": 17,
   "metadata": {},
   "outputs": [
    {
     "data": {
      "text/plain": [
       "0    0\n",
       "1    0\n",
       "2    1\n",
       "3    1\n",
       "4    1\n",
       "Name: Trending_NonTrending, dtype: int32"
      ]
     },
     "execution_count": 17,
     "metadata": {},
     "output_type": "execute_result"
    }
   ],
   "source": [
    "# Creating Target Variable \n",
    "Y = dataframe['Trending_NonTrending'].copy()\n",
    "Y.head()"
   ]
  },
  {
   "cell_type": "code",
   "execution_count": 18,
   "metadata": {},
   "outputs": [
    {
     "data": {
      "text/plain": [
       "Index(['likes', 'dislikes', 'comment_count'], dtype='object')"
      ]
     },
     "execution_count": 18,
     "metadata": {},
     "output_type": "execute_result"
    }
   ],
   "source": [
    "features_list = ['likes', 'dislikes','comment_count']\n",
    "\n",
    "X = dataframe[features_list].copy()\n",
    "X.columns"
   ]
  },
  {
   "cell_type": "code",
   "execution_count": 19,
   "metadata": {},
   "outputs": [],
   "source": [
    "x_train, x_test, y_train, y_test = train_test_split(X, Y, test_size = 0.3, random_state = 324)"
   ]
  },
  {
   "cell_type": "code",
   "execution_count": 20,
   "metadata": {},
   "outputs": [
    {
     "data": {
      "text/plain": [
       "DecisionTreeClassifier(max_leaf_nodes=10, random_state=0)"
      ]
     },
     "execution_count": 20,
     "metadata": {},
     "output_type": "execute_result"
    }
   ],
   "source": [
    "# Creating a Decision Tree Classifier and Training the Model\n",
    "\n",
    "video_classifier = DecisionTreeClassifier(max_leaf_nodes = 10, random_state = 0)\n",
    "video_classifier.fit(x_train, y_train)"
   ]
  },
  {
   "cell_type": "code",
   "execution_count": 21,
   "metadata": {},
   "outputs": [],
   "source": [
    "y_prediction = video_classifier.predict(x_test)"
   ]
  },
  {
   "cell_type": "code",
   "execution_count": 22,
   "metadata": {},
   "outputs": [
    {
     "data": {
      "text/plain": [
       "[Text(0.5357142857142857, 0.9166666666666666, 'X[1] <= 504.5\\ngini = 0.394\\nsamples = 1262\\nvalue = [921, 341]'),\n",
       " Text(0.2857142857142857, 0.75, 'X[0] <= 11737.0\\ngini = 0.102\\nsamples = 873\\nvalue = [826, 47]'),\n",
       " Text(0.14285714285714285, 0.5833333333333334, 'X[1] <= 282.5\\ngini = 0.057\\nsamples = 822\\nvalue = [798, 24]'),\n",
       " Text(0.07142857142857142, 0.4166666666666667, 'gini = 0.011\\nsamples = 707\\nvalue = [703, 4]'),\n",
       " Text(0.21428571428571427, 0.4166666666666667, 'gini = 0.287\\nsamples = 115\\nvalue = [95, 20]'),\n",
       " Text(0.42857142857142855, 0.5833333333333334, 'X[2] <= 659.0\\ngini = 0.495\\nsamples = 51\\nvalue = [28, 23]'),\n",
       " Text(0.35714285714285715, 0.4166666666666667, 'gini = 0.298\\nsamples = 11\\nvalue = [2, 9]'),\n",
       " Text(0.5, 0.4166666666666667, 'X[0] <= 20828.5\\ngini = 0.455\\nsamples = 40\\nvalue = [26, 14]'),\n",
       " Text(0.42857142857142855, 0.25, 'gini = 0.32\\nsamples = 30\\nvalue = [24, 6]'),\n",
       " Text(0.5714285714285714, 0.25, 'gini = 0.32\\nsamples = 10\\nvalue = [2, 8]'),\n",
       " Text(0.7857142857142857, 0.75, 'X[0] <= 29483.5\\ngini = 0.369\\nsamples = 389\\nvalue = [95, 294]'),\n",
       " Text(0.7142857142857143, 0.5833333333333334, 'X[0] <= 2132.0\\ngini = 0.474\\nsamples = 236\\nvalue = [91, 145]'),\n",
       " Text(0.6428571428571429, 0.4166666666666667, 'gini = 0.245\\nsamples = 21\\nvalue = [18, 3]'),\n",
       " Text(0.7857142857142857, 0.4166666666666667, 'X[2] <= 482.0\\ngini = 0.449\\nsamples = 215\\nvalue = [73, 142]'),\n",
       " Text(0.7142857142857143, 0.25, 'gini = 0.089\\nsamples = 43\\nvalue = [2, 41]'),\n",
       " Text(0.8571428571428571, 0.25, 'X[1] <= 1909.0\\ngini = 0.485\\nsamples = 172\\nvalue = [71, 101]'),\n",
       " Text(0.7857142857142857, 0.08333333333333333, 'gini = 0.499\\nsamples = 145\\nvalue = [69, 76]'),\n",
       " Text(0.9285714285714286, 0.08333333333333333, 'gini = 0.137\\nsamples = 27\\nvalue = [2, 25]'),\n",
       " Text(0.8571428571428571, 0.5833333333333334, 'gini = 0.051\\nsamples = 153\\nvalue = [4, 149]')]"
      ]
     },
     "execution_count": 22,
     "metadata": {},
     "output_type": "execute_result"
    },
    {
     "data": {
      "image/png": "[encoded data removed]",
      "text/plain": [
       "<Figure size 800x640 with 1 Axes>"
      ]
     },
     "metadata": {
      "needs_background": "light"
     },
     "output_type": "display_data"
    }
   ],
   "source": [
    "fig = figure(figsize=(10, 8), dpi = 80)\n",
    "tree.plot_tree(video_classifier)"
   ]
  },
  {
   "cell_type": "code",
   "execution_count": 23,
   "metadata": {},
   "outputs": [
    {
     "data": {
      "text/plain": [
       "87.61552680221811"
      ]
     },
     "execution_count": 23,
     "metadata": {},
     "output_type": "execute_result"
    }
   ],
   "source": [
    "accuracy_score(y_test, y_prediction)*100"
   ]
  },
  {
   "cell_type": "code",
   "execution_count": 24,
   "metadata": {},
   "outputs": [
    {
     "data": {
      "text/plain": [
       "array([[346,  41],\n",
       "       [ 26, 128]], dtype=int64)"
      ]
     },
     "execution_count": 24,
     "metadata": {},
     "output_type": "execute_result"
    }
   ],
   "source": [
    "confusion_matrix(y_test, y_prediction)"
   ]
  }
 ],
 "metadata": {
  "interpreter": {
   "hash": "ba3ef4568f557eb0635fa9cfe08f68d99a9d69c37de2fdd5f96834818e2153d2"
  },
  "kernelspec": {
   "display_name": "Python 3.10.1 64-bit ('env': venv)",
   "language": "python",
   "name": "python3"
  },
  "language_info": {
   "codemirror_mode": {
    "name": "ipython",
    "version": 3
   },
   "file_extension": ".py",
   "mimetype": "text/x-python",
   "name": "python",
   "nbconvert_exporter": "python",
   "pygments_lexer": "ipython3",
   "version": "3.10.1"
  },
  "orig_nbformat": 4
 },
 "nbformat": 4,
 "nbformat_minor": 2
}
