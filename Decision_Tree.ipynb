{
 "cells": [
  {
   "cell_type": "markdown",
   "metadata": {},
   "source": [
    "#### Importing Libraries"
   ]
  },
  {
   "cell_type": "code",
   "execution_count": 1,
   "metadata": {},
   "outputs": [],
   "source": [
    "import pandas as pd \n",
    "from sklearn.metrics import accuracy_score, confusion_matrix\n",
    "from sklearn.model_selection import train_test_split\n",
    "from sklearn.tree import DecisionTreeClassifier\n",
    "from matplotlib.pyplot import figure\n",
    "from sklearn import tree\n",
    "from matplotlib import pyplot as plt"
   ]
  },
  {
   "cell_type": "markdown",
   "metadata": {},
   "source": [
    "#### Reading Data"
   ]
  },
  {
   "cell_type": "code",
   "execution_count": 2,
   "metadata": {},
   "outputs": [],
   "source": [
    "data = pd.read_csv(\"./Final-Database.csv\")"
   ]
  },
  {
   "cell_type": "markdown",
   "metadata": {},
   "source": [
    "<h4> Data Description </h4>\n",
    "<h6> Youtube DataSet</h6>"
   ]
  },
  {
   "cell_type": "markdown",
   "metadata": {},
   "source": [
    "##### Data Columns"
   ]
  },
  {
   "cell_type": "code",
   "execution_count": 3,
   "metadata": {},
   "outputs": [
    {
     "data": {
      "text/plain": [
       "Index(['Video_Title', 'Title_characters', 'Channel_title', 'Publish_date',\n",
       "       'day of the week', 'Day', 'Time', 'time-part', 'Time_Category',\n",
       "       'publish_time', 'views', 'tags', 'Tag_words', 'No. Of Charcters (Tags)',\n",
       "       'T/NT', 'likes', 'dislikes', 'comment_count', 'Comment Disabled',\n",
       "       'Description'],\n",
       "      dtype='object')"
      ]
     },
     "execution_count": 3,
     "metadata": {},
     "output_type": "execute_result"
    }
   ],
   "source": [
    "data.columns"
   ]
  },
  {
   "cell_type": "code",
   "execution_count": 4,
   "metadata": {},
   "outputs": [
    {
     "data": {
      "text/html": [
       "<div>\n",
       "<style scoped>\n",
       "    .dataframe tbody tr th:only-of-type {\n",
       "        vertical-align: middle;\n",
       "    }\n",
       "\n",
       "    .dataframe tbody tr th {\n",
       "        vertical-align: top;\n",
       "    }\n",
       "\n",
       "    .dataframe thead th {\n",
       "        text-align: right;\n",
       "    }\n",
       "</style>\n",
       "<table border=\"1\" class=\"dataframe\">\n",
       "  <thead>\n",
       "    <tr style=\"text-align: right;\">\n",
       "      <th></th>\n",
       "      <th>Video_Title</th>\n",
       "      <th>Title_characters</th>\n",
       "      <th>Channel_title</th>\n",
       "      <th>Publish_date</th>\n",
       "      <th>day of the week</th>\n",
       "      <th>Day</th>\n",
       "      <th>Time</th>\n",
       "      <th>time-part</th>\n",
       "      <th>Time_Category</th>\n",
       "      <th>publish_time</th>\n",
       "      <th>views</th>\n",
       "      <th>tags</th>\n",
       "      <th>Tag_words</th>\n",
       "      <th>No. Of Charcters (Tags)</th>\n",
       "      <th>T/NT</th>\n",
       "      <th>likes</th>\n",
       "      <th>dislikes</th>\n",
       "      <th>comment_count</th>\n",
       "      <th>Comment Disabled</th>\n",
       "      <th>Description</th>\n",
       "    </tr>\n",
       "  </thead>\n",
       "  <tbody>\n",
       "    <tr>\n",
       "      <th>0</th>\n",
       "      <td>10 DIY Giant vs Miniature Gadgets / School Pra...</td>\n",
       "      <td>50</td>\n",
       "      <td>Troom Troom</td>\n",
       "      <td>5/27/18</td>\n",
       "      <td>Sunday</td>\n",
       "      <td>1</td>\n",
       "      <td>14:00:09</td>\n",
       "      <td>14</td>\n",
       "      <td>2</td>\n",
       "      <td>2018-05-27T14:00:09.000Z</td>\n",
       "      <td>1270168</td>\n",
       "      <td>prank pranks best pranks funny joke how to pra...</td>\n",
       "      <td>59</td>\n",
       "      <td>362</td>\n",
       "      <td>1</td>\n",
       "      <td>20418</td>\n",
       "      <td>1410</td>\n",
       "      <td>2593</td>\n",
       "      <td>False</td>\n",
       "      <td>Subscribe Here: https://goo.gl/KM3Axw8 DIY Edi...</td>\n",
       "    </tr>\n",
       "    <tr>\n",
       "      <th>1</th>\n",
       "      <td>10th Annual Vijay Awards | 16th &amp; 17th June 20...</td>\n",
       "      <td>58</td>\n",
       "      <td>Vijay Television</td>\n",
       "      <td>6/13/18</td>\n",
       "      <td>Wednesday</td>\n",
       "      <td>4</td>\n",
       "      <td>6:38:30</td>\n",
       "      <td>6</td>\n",
       "      <td>1</td>\n",
       "      <td>2018-06-13T06:38:30.000Z</td>\n",
       "      <td>540577</td>\n",
       "      <td>Thamizh Vijay Star Vijay TV Star TV Star Vijay...</td>\n",
       "      <td>40</td>\n",
       "      <td>245</td>\n",
       "      <td>0</td>\n",
       "      <td>4382</td>\n",
       "      <td>397</td>\n",
       "      <td>224</td>\n",
       "      <td>False</td>\n",
       "      <td>10th Annual Vijay Awards! ஜூன் 16 இரவு 8 மணிக்...</td>\n",
       "    </tr>\n",
       "    <tr>\n",
       "      <th>2</th>\n",
       "      <td>11 AM Headlines || 04 June 2018 - OTV</td>\n",
       "      <td>37</td>\n",
       "      <td>OTV</td>\n",
       "      <td>6/4/18</td>\n",
       "      <td>Monday</td>\n",
       "      <td>2</td>\n",
       "      <td>5:55:54</td>\n",
       "      <td>5</td>\n",
       "      <td>4</td>\n",
       "      <td>2018-06-04T05:55:54.000Z</td>\n",
       "      <td>107275</td>\n",
       "      <td>otv otv news odisha news odisha latest news od...</td>\n",
       "      <td>23</td>\n",
       "      <td>137</td>\n",
       "      <td>0</td>\n",
       "      <td>636</td>\n",
       "      <td>40</td>\n",
       "      <td>10</td>\n",
       "      <td>False</td>\n",
       "      <td>OdishaTV is Odisha's no 1 News Channel. OTV be...</td>\n",
       "    </tr>\n",
       "    <tr>\n",
       "      <th>3</th>\n",
       "      <td>11 AWESOME LIFE HACKS!</td>\n",
       "      <td>22</td>\n",
       "      <td>Power Vision</td>\n",
       "      <td>6/5/18</td>\n",
       "      <td>Tuesday</td>\n",
       "      <td>3</td>\n",
       "      <td>13:00:01</td>\n",
       "      <td>13</td>\n",
       "      <td>2</td>\n",
       "      <td>2018-06-05T13:00:01.000Z</td>\n",
       "      <td>236406</td>\n",
       "      <td>Life hacks Kitchen Life hacks Lifehacks with G...</td>\n",
       "      <td>28</td>\n",
       "      <td>177</td>\n",
       "      <td>0</td>\n",
       "      <td>1404</td>\n",
       "      <td>293</td>\n",
       "      <td>95</td>\n",
       "      <td>False</td>\n",
       "      <td>Help Me +2.100.000 Subscribers: https://goo.gl...</td>\n",
       "    </tr>\n",
       "    <tr>\n",
       "      <th>4</th>\n",
       "      <td>11 June 2018 - The Hindu Editorial News Paper ...</td>\n",
       "      <td>88</td>\n",
       "      <td>Study IQ education</td>\n",
       "      <td>6/11/18</td>\n",
       "      <td>Monday</td>\n",
       "      <td>2</td>\n",
       "      <td>2:49:16</td>\n",
       "      <td>2</td>\n",
       "      <td>4</td>\n",
       "      <td>2018-06-11T02:49:16.000Z</td>\n",
       "      <td>64041</td>\n",
       "      <td>current affairs 2018 current affairs current a...</td>\n",
       "      <td>83</td>\n",
       "      <td>454</td>\n",
       "      <td>0</td>\n",
       "      <td>3479</td>\n",
       "      <td>68</td>\n",
       "      <td>487</td>\n",
       "      <td>False</td>\n",
       "      <td>#UPSC #SSC #IBPS #SBI #RBI #StatePSC #UGC #SSC...</td>\n",
       "    </tr>\n",
       "  </tbody>\n",
       "</table>\n",
       "</div>"
      ],
      "text/plain": [
       "                                         Video_Title  Title_characters  \\\n",
       "0  10 DIY Giant vs Miniature Gadgets / School Pra...                50   \n",
       "1  10th Annual Vijay Awards | 16th & 17th June 20...                58   \n",
       "2              11 AM Headlines || 04 June 2018 - OTV                37   \n",
       "3                             11 AWESOME LIFE HACKS!                22   \n",
       "4  11 June 2018 - The Hindu Editorial News Paper ...                88   \n",
       "\n",
       "        Channel_title Publish_date day of the week  Day      Time  time-part  \\\n",
       "0         Troom Troom      5/27/18          Sunday    1  14:00:09         14   \n",
       "1    Vijay Television      6/13/18       Wednesday    4   6:38:30          6   \n",
       "2                 OTV       6/4/18          Monday    2   5:55:54          5   \n",
       "3        Power Vision       6/5/18         Tuesday    3  13:00:01         13   \n",
       "4  Study IQ education      6/11/18          Monday    2   2:49:16          2   \n",
       "\n",
       "   Time_Category              publish_time    views  \\\n",
       "0              2  2018-05-27T14:00:09.000Z  1270168   \n",
       "1              1  2018-06-13T06:38:30.000Z   540577   \n",
       "2              4  2018-06-04T05:55:54.000Z   107275   \n",
       "3              2  2018-06-05T13:00:01.000Z   236406   \n",
       "4              4  2018-06-11T02:49:16.000Z    64041   \n",
       "\n",
       "                                                tags  Tag_words  \\\n",
       "0  prank pranks best pranks funny joke how to pra...         59   \n",
       "1  Thamizh Vijay Star Vijay TV Star TV Star Vijay...         40   \n",
       "2  otv otv news odisha news odisha latest news od...         23   \n",
       "3  Life hacks Kitchen Life hacks Lifehacks with G...         28   \n",
       "4  current affairs 2018 current affairs current a...         83   \n",
       "\n",
       "   No. Of Charcters (Tags)  T/NT  likes  dislikes  comment_count  \\\n",
       "0                      362     1  20418      1410           2593   \n",
       "1                      245     0   4382       397            224   \n",
       "2                      137     0    636        40             10   \n",
       "3                      177     0   1404       293             95   \n",
       "4                      454     0   3479        68            487   \n",
       "\n",
       "   Comment Disabled                                        Description  \n",
       "0             False  Subscribe Here: https://goo.gl/KM3Axw8 DIY Edi...  \n",
       "1             False  10th Annual Vijay Awards! ஜூன் 16 இரவு 8 மணிக்...  \n",
       "2             False  OdishaTV is Odisha's no 1 News Channel. OTV be...  \n",
       "3             False  Help Me +2.100.000 Subscribers: https://goo.gl...  \n",
       "4             False  #UPSC #SSC #IBPS #SBI #RBI #StatePSC #UGC #SSC...  "
      ]
     },
     "execution_count": 4,
     "metadata": {},
     "output_type": "execute_result"
    }
   ],
   "source": [
    "data.head()"
   ]
  },
  {
   "cell_type": "code",
   "execution_count": 5,
   "metadata": {},
   "outputs": [
    {
     "data": {
      "text/plain": [
       "(4600, 20)"
      ]
     },
     "execution_count": 5,
     "metadata": {},
     "output_type": "execute_result"
    }
   ],
   "source": [
    "data.shape"
   ]
  },
  {
   "cell_type": "markdown",
   "metadata": {},
   "source": [
    "##### Checking is there any NULL values in data"
   ]
  },
  {
   "cell_type": "code",
   "execution_count": 6,
   "metadata": {},
   "outputs": [
    {
     "data": {
      "text/html": [
       "<div>\n",
       "<style scoped>\n",
       "    .dataframe tbody tr th:only-of-type {\n",
       "        vertical-align: middle;\n",
       "    }\n",
       "\n",
       "    .dataframe tbody tr th {\n",
       "        vertical-align: top;\n",
       "    }\n",
       "\n",
       "    .dataframe thead th {\n",
       "        text-align: right;\n",
       "    }\n",
       "</style>\n",
       "<table border=\"1\" class=\"dataframe\">\n",
       "  <thead>\n",
       "    <tr style=\"text-align: right;\">\n",
       "      <th></th>\n",
       "      <th>Video_Title</th>\n",
       "      <th>Title_characters</th>\n",
       "      <th>Channel_title</th>\n",
       "      <th>Publish_date</th>\n",
       "      <th>day of the week</th>\n",
       "      <th>Day</th>\n",
       "      <th>Time</th>\n",
       "      <th>time-part</th>\n",
       "      <th>Time_Category</th>\n",
       "      <th>publish_time</th>\n",
       "      <th>views</th>\n",
       "      <th>tags</th>\n",
       "      <th>Tag_words</th>\n",
       "      <th>No. Of Charcters (Tags)</th>\n",
       "      <th>T/NT</th>\n",
       "      <th>likes</th>\n",
       "      <th>dislikes</th>\n",
       "      <th>comment_count</th>\n",
       "      <th>Comment Disabled</th>\n",
       "      <th>Description</th>\n",
       "    </tr>\n",
       "  </thead>\n",
       "  <tbody>\n",
       "    <tr>\n",
       "      <th>59</th>\n",
       "      <td>8 DIY Edible Phone Cases / Edible Pranks!</td>\n",
       "      <td>41</td>\n",
       "      <td>Troom Troom</td>\n",
       "      <td>6/7/18</td>\n",
       "      <td>Thursday</td>\n",
       "      <td>5</td>\n",
       "      <td>19:00:03</td>\n",
       "      <td>19</td>\n",
       "      <td>3</td>\n",
       "      <td>2018-06-07T19:00:03.000Z</td>\n",
       "      <td>4381895</td>\n",
       "      <td>Edible Pranks Pranks DIY Edible Phone Cases Ed...</td>\n",
       "      <td>46</td>\n",
       "      <td>262</td>\n",
       "      <td>1</td>\n",
       "      <td>37020</td>\n",
       "      <td>4294</td>\n",
       "      <td>4012</td>\n",
       "      <td>False</td>\n",
       "      <td>NaN</td>\n",
       "    </tr>\n",
       "    <tr>\n",
       "      <th>106</th>\n",
       "      <td>ABP ANANDA Live Stream</td>\n",
       "      <td>22</td>\n",
       "      <td>ABP ANANDA</td>\n",
       "      <td>5/17/18</td>\n",
       "      <td>Thursday</td>\n",
       "      <td>5</td>\n",
       "      <td>6:39:03</td>\n",
       "      <td>6</td>\n",
       "      <td>1</td>\n",
       "      <td>2018-05-17T06:39:03.000Z</td>\n",
       "      <td>133305</td>\n",
       "      <td>[none]</td>\n",
       "      <td>0</td>\n",
       "      <td>6</td>\n",
       "      <td>0</td>\n",
       "      <td>439</td>\n",
       "      <td>89</td>\n",
       "      <td>32</td>\n",
       "      <td>False</td>\n",
       "      <td>NaN</td>\n",
       "    </tr>\n",
       "    <tr>\n",
       "      <th>108</th>\n",
       "      <td>Abrahaminte Santhathikal Official Trailer | Ma...</td>\n",
       "      <td>96</td>\n",
       "      <td>GOODWILL ENTERTAINMENTS</td>\n",
       "      <td>6/6/18</td>\n",
       "      <td>Wednesday</td>\n",
       "      <td>4</td>\n",
       "      <td>15:02:34</td>\n",
       "      <td>15</td>\n",
       "      <td>2</td>\n",
       "      <td>2018-06-06T15:02:34.000Z</td>\n",
       "      <td>1282011</td>\n",
       "      <td>Abrahaminte Santhathikal Abrahaminte Santhathi...</td>\n",
       "      <td>52</td>\n",
       "      <td>466</td>\n",
       "      <td>0</td>\n",
       "      <td>61242</td>\n",
       "      <td>3126</td>\n",
       "      <td>7325</td>\n",
       "      <td>False</td>\n",
       "      <td>NaN</td>\n",
       "    </tr>\n",
       "    <tr>\n",
       "      <th>227</th>\n",
       "      <td>Allu Arjun Movie in Hindi Dubbed 2017 | Hindi ...</td>\n",
       "      <td>75</td>\n",
       "      <td>Blockbuster Movies</td>\n",
       "      <td>1/28/18</td>\n",
       "      <td>Sunday</td>\n",
       "      <td>1</td>\n",
       "      <td>7:00:04</td>\n",
       "      <td>7</td>\n",
       "      <td>1</td>\n",
       "      <td>2018-01-28T07:00:04.000Z</td>\n",
       "      <td>640705</td>\n",
       "      <td>[none]</td>\n",
       "      <td>1</td>\n",
       "      <td>6</td>\n",
       "      <td>0</td>\n",
       "      <td>1645</td>\n",
       "      <td>297</td>\n",
       "      <td>63</td>\n",
       "      <td>False</td>\n",
       "      <td>NaN</td>\n",
       "    </tr>\n",
       "    <tr>\n",
       "      <th>243</th>\n",
       "      <td>Ama Ghara Laxmi | Full Ep 503 16th Dec 2017 | ...</td>\n",
       "      <td>68</td>\n",
       "      <td>Tarang TV</td>\n",
       "      <td>12/16/17</td>\n",
       "      <td>Saturday</td>\n",
       "      <td>7</td>\n",
       "      <td>14:03:48</td>\n",
       "      <td>14</td>\n",
       "      <td>2</td>\n",
       "      <td>2017-12-16T14:03:48.000Z</td>\n",
       "      <td>64346</td>\n",
       "      <td>tarang  tarang tv   tarang tv online   tarang ...</td>\n",
       "      <td>39</td>\n",
       "      <td>249</td>\n",
       "      <td>0</td>\n",
       "      <td>257</td>\n",
       "      <td>31</td>\n",
       "      <td>14</td>\n",
       "      <td>False</td>\n",
       "      <td>NaN</td>\n",
       "    </tr>\n",
       "  </tbody>\n",
       "</table>\n",
       "</div>"
      ],
      "text/plain": [
       "                                           Video_Title  Title_characters  \\\n",
       "59           8 DIY Edible Phone Cases / Edible Pranks!                41   \n",
       "106                             ABP ANANDA Live Stream                22   \n",
       "108  Abrahaminte Santhathikal Official Trailer | Ma...                96   \n",
       "227  Allu Arjun Movie in Hindi Dubbed 2017 | Hindi ...                75   \n",
       "243  Ama Ghara Laxmi | Full Ep 503 16th Dec 2017 | ...                68   \n",
       "\n",
       "               Channel_title Publish_date day of the week  Day      Time  \\\n",
       "59               Troom Troom       6/7/18        Thursday    5  19:00:03   \n",
       "106               ABP ANANDA      5/17/18        Thursday    5   6:39:03   \n",
       "108  GOODWILL ENTERTAINMENTS       6/6/18       Wednesday    4  15:02:34   \n",
       "227       Blockbuster Movies      1/28/18          Sunday    1   7:00:04   \n",
       "243                Tarang TV     12/16/17        Saturday    7  14:03:48   \n",
       "\n",
       "     time-part  Time_Category              publish_time    views  \\\n",
       "59          19              3  2018-06-07T19:00:03.000Z  4381895   \n",
       "106          6              1  2018-05-17T06:39:03.000Z   133305   \n",
       "108         15              2  2018-06-06T15:02:34.000Z  1282011   \n",
       "227          7              1  2018-01-28T07:00:04.000Z   640705   \n",
       "243         14              2  2017-12-16T14:03:48.000Z    64346   \n",
       "\n",
       "                                                  tags  Tag_words  \\\n",
       "59   Edible Pranks Pranks DIY Edible Phone Cases Ed...         46   \n",
       "106                                             [none]          0   \n",
       "108  Abrahaminte Santhathikal Abrahaminte Santhathi...         52   \n",
       "227                                             [none]          1   \n",
       "243  tarang  tarang tv   tarang tv online   tarang ...         39   \n",
       "\n",
       "     No. Of Charcters (Tags)  T/NT  likes  dislikes  comment_count  \\\n",
       "59                       262     1  37020      4294           4012   \n",
       "106                        6     0    439        89             32   \n",
       "108                      466     0  61242      3126           7325   \n",
       "227                        6     0   1645       297             63   \n",
       "243                      249     0    257        31             14   \n",
       "\n",
       "     Comment Disabled Description  \n",
       "59              False         NaN  \n",
       "106             False         NaN  \n",
       "108             False         NaN  \n",
       "227             False         NaN  \n",
       "243             False         NaN  "
      ]
     },
     "execution_count": 6,
     "metadata": {},
     "output_type": "execute_result"
    }
   ],
   "source": [
    "data[data.isnull().any(axis = 1)].head()"
   ]
  },
  {
   "cell_type": "markdown",
   "metadata": {},
   "source": [
    "<h5> Data Cleaning </h5>"
   ]
  },
  {
   "cell_type": "code",
   "execution_count": 7,
   "metadata": {},
   "outputs": [],
   "source": [
    "data = data.dropna()"
   ]
  },
  {
   "cell_type": "code",
   "execution_count": 8,
   "metadata": {},
   "outputs": [
    {
     "data": {
      "text/plain": [
       "(4512, 20)"
      ]
     },
     "execution_count": 8,
     "metadata": {},
     "output_type": "execute_result"
    }
   ],
   "source": [
    "data.shape"
   ]
  },
  {
   "cell_type": "code",
   "execution_count": 12,
   "metadata": {},
   "outputs": [
    {
     "data": {
      "text/plain": [
       "0    1\n",
       "1    1\n",
       "2    0\n",
       "3    0\n",
       "4    0\n",
       "Name: Trending_NonTrending, dtype: int32"
      ]
     },
     "execution_count": 12,
     "metadata": {},
     "output_type": "execute_result"
    }
   ],
   "source": [
    "# For creating additional feature -> Trending-NonTrending\n",
    "dataframe = data.copy()\n",
    "\n",
    "# Defining our Target Variable/feature\n",
    "dataframe['Trending_NonTrending'] = (dataframe['views'] > 400000) * 1\n",
    "dataframe['Trending_NonTrending'].head()"
   ]
  },
  {
   "cell_type": "code",
   "execution_count": 13,
   "metadata": {},
   "outputs": [
    {
     "data": {
      "text/plain": [
       "0    1\n",
       "1    1\n",
       "2    0\n",
       "3    0\n",
       "4    0\n",
       "Name: Trending_NonTrending, dtype: int32"
      ]
     },
     "execution_count": 13,
     "metadata": {},
     "output_type": "execute_result"
    }
   ],
   "source": [
    "# Creating Target Variable \n",
    "Y = dataframe['Trending_NonTrending'].copy()\n",
    "Y.head()"
   ]
  },
  {
   "cell_type": "code",
   "execution_count": 14,
   "metadata": {},
   "outputs": [
    {
     "data": {
      "text/plain": [
       "Index(['likes', 'views', 'dislikes', 'comment_count', 'Title_characters',\n",
       "       'Tag_words', 'Day', 'Time_Category'],\n",
       "      dtype='object')"
      ]
     },
     "execution_count": 14,
     "metadata": {},
     "output_type": "execute_result"
    }
   ],
   "source": [
    "features_list = ['likes', 'views','dislikes','comment_count','Title_characters','Tag_words','Day','Time_Category']\n",
    "\n",
    "X = dataframe[features_list].copy()\n",
    "X.columns"
   ]
  },
  {
   "cell_type": "code",
   "execution_count": 15,
   "metadata": {},
   "outputs": [],
   "source": [
    "x_train, x_test, y_train, y_test = train_test_split(X, Y, test_size = 0.3, random_state = 324)"
   ]
  },
  {
   "cell_type": "code",
   "execution_count": 16,
   "metadata": {},
   "outputs": [
    {
     "data": {
      "text/plain": [
       "DecisionTreeClassifier(max_leaf_nodes=10, random_state=0)"
      ]
     },
     "execution_count": 16,
     "metadata": {},
     "output_type": "execute_result"
    }
   ],
   "source": [
    "# Creating a Decision Tree Classifier and Training the Model\n",
    "\n",
    "video_classifier = DecisionTreeClassifier(max_leaf_nodes = 10, random_state = 0)\n",
    "video_classifier.fit(x_train, y_train)"
   ]
  },
  {
   "cell_type": "code",
   "execution_count": 17,
   "metadata": {},
   "outputs": [],
   "source": [
    "y_prediction = video_classifier.predict(x_test)"
   ]
  },
  {
   "cell_type": "code",
   "execution_count": 18,
   "metadata": {},
   "outputs": [
    {
     "data": {
      "text/plain": [
       "[Text(310.0, 362.40000000000003, 'X[1] <= 400133.5\\ngini = 0.415\\nsamples = 3158\\nvalue = [2230, 928]'),\n",
       " Text(155.0, 120.80000000000001, 'gini = 0.0\\nsamples = 2230\\nvalue = [2230, 0]'),\n",
       " Text(465.0, 120.80000000000001, 'gini = 0.0\\nsamples = 928\\nvalue = [0, 928]')]"
      ]
     },
     "execution_count": 18,
     "metadata": {},
     "output_type": "execute_result"
    },
    {
     "data": {
      "image/png": "[encoded data removed]",
      "text/plain": [
       "<Figure size 800x640 with 1 Axes>"
      ]
     },
     "metadata": {
      "needs_background": "light"
     },
     "output_type": "display_data"
    }
   ],
   "source": [
    "fig = figure(figsize=(10, 8), dpi = 80)\n",
    "tree.plot_tree(video_classifier)"
   ]
  },
  {
   "cell_type": "code",
   "execution_count": 19,
   "metadata": {},
   "outputs": [
    {
     "data": {
      "text/plain": [
       "100.0"
      ]
     },
     "execution_count": 19,
     "metadata": {},
     "output_type": "execute_result"
    }
   ],
   "source": [
    "accuracy_score(y_test, y_prediction)*100"
   ]
  },
  {
   "cell_type": "code",
   "execution_count": 20,
   "metadata": {},
   "outputs": [
    {
     "data": {
      "text/plain": [
       "array([[979,   0],\n",
       "       [  0, 375]], dtype=int64)"
      ]
     },
     "execution_count": 20,
     "metadata": {},
     "output_type": "execute_result"
    }
   ],
   "source": [
    "confusion_matrix(y_test, y_prediction)"
   ]
  }
 ],
 "metadata": {
  "interpreter": {
   "hash": "b10ae89ec1d30e627d96305406585dd173471d1d256e43a387dce30ff30a3fa1"
  },
  "kernelspec": {
   "display_name": "Python 3.7.6 64-bit ('env': venv)",
   "name": "python3"
  },
  "language_info": {
   "codemirror_mode": {
    "name": "ipython",
    "version": 3
   },
   "file_extension": ".py",
   "mimetype": "text/x-python",
   "name": "python",
   "nbconvert_exporter": "python",
   "pygments_lexer": "ipython3",
   "version": "3.9.10"
  },
  "orig_nbformat": 4
 },
 "nbformat": 4,
 "nbformat_minor": 2
}
